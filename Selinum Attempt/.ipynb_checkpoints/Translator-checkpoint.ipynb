{
 "cells": [
  {
   "cell_type": "code",
   "execution_count": 1,
   "id": "da3a55eb",
   "metadata": {},
   "outputs": [],
   "source": [
    "import os\n",
    "from selenium import webdriver\n",
    "from selenium.webdriver.common.by import By\n",
    "from selenium.webdriver.common.action_chains import ActionChains\n",
    "from selenium.webdriver.support import expected_conditions as EC\n",
    "from selenium.webdriver.support.ui import WebDriverWait\n",
    "from tqdm import tqdm"
   ]
  },
  {
   "cell_type": "code",
   "execution_count": null,
   "id": "5b84346b",
   "metadata": {},
   "outputs": [],
   "source": [
    "path=input(\"Paste Path to folder needing translation: \") #add folder\n",
    "os.chdir(path)\n",
    "file_name=['\\\\'+f for f in os.listdir() if f.endswith(\".docx\")]\n",
    "complete_name=[]\n",
    "for f in file_name:\n",
    "    complete_name.append([os.path.abspath(os.getcwd())+f,False])"
   ]
  },
  {
   "cell_type": "code",
   "execution_count": null,
   "id": "2f180af4",
   "metadata": {},
   "outputs": [],
   "source": [
    "download_loc=os.path.join(os.getcwd(), \"Translated\") # translated folder created for saving files\n",
    "if not os.path.exists(download_loc):\n",
    "    os.makedirs(download_loc)\n",
    "chrome_options = webdriver.ChromeOptions()\n",
    "prefs = {'download.default_directory' : download_loc} # you can also type path for downloading translated files \n",
    "chrome_options.add_experimental_option('prefs', prefs)\n",
    "driver = webdriver.Chrome(chrome_options=chrome_options)"
   ]
  },
  {
   "cell_type": "code",
   "execution_count": null,
   "id": "93b050f7",
   "metadata": {},
   "outputs": [],
   "source": [
    "driver.get(\"https://translate.google.co.in/?sl=auto&tl=en&op=docs\") #google translate doc url you can also \n"
   ]
  },
  {
   "cell_type": "code",
   "execution_count": null,
   "id": "be435c9b",
   "metadata": {},
   "outputs": [],
   "source": [
    "for path in tqdm(complete_name,desc=\"Translating\"):\n",
    "    if path[1]==False:\n",
    "        file = driver.find_element(by=By.NAME, value='file')\n",
    "        file.send_keys(path[0])\n",
    "        translate = driver.find_element(by=By.XPATH, value='/html/body/c-wiz/div/div[2]/c-wiz/div[3]/c-wiz/div[2]/c-wiz/div/div[1]/form/div[2]/div[2]/div/button[1]').click()\n",
    "        download_button = driver.find_element(by=By.XPATH, value='/html/body/c-wiz/div/div[2]/c-wiz/div[3]/c-wiz/div[2]/c-wiz/div/div[1]/form/div[2]/div[2]/div/button[2]')\n",
    "        wait = WebDriverWait(driver, 90)\n",
    "        try: #try catch because some file google translate might not translate \n",
    "            element = wait.until(EC.element_to_be_clickable(download_button)) \n",
    "            element.click()\n",
    "            path[1]=True\n",
    "            driver.refresh()\n",
    "        except:\n",
    "            driver.refresh()"
   ]
  },
  {
   "cell_type": "code",
   "execution_count": null,
   "id": "ebdb57a0",
   "metadata": {},
   "outputs": [],
   "source": [
    "trl=0\n",
    "n_trl=0\n",
    "for c_n in complete_name:\n",
    "    if c_n[1]:\n",
    "        ntl=ntl+1\n",
    "    else:\n",
    "        tl=tl+1\n",
    "\n",
    "print('-----------Status------------')\n",
    "print('All: ',len(complete_name))\n",
    "print('Translated: ',tl)\n",
    "print('Not Translated: ',ntl)"
   ]
  }
 ],
 "metadata": {
  "kernelspec": {
   "display_name": "Python 3 (ipykernel)",
   "language": "python",
   "name": "python3"
  },
  "language_info": {
   "codemirror_mode": {
    "name": "ipython",
    "version": 3
   },
   "file_extension": ".py",
   "mimetype": "text/x-python",
   "name": "python",
   "nbconvert_exporter": "python",
   "pygments_lexer": "ipython3",
   "version": "3.10.0"
  }
 },
 "nbformat": 4,
 "nbformat_minor": 5
}
