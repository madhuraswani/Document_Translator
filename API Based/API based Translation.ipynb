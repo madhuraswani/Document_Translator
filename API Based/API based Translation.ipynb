{
 "cells": [
  {
   "cell_type": "code",
   "execution_count": 68,
   "id": "f417e8be",
   "metadata": {},
   "outputs": [],
   "source": [
    "import os\n",
    "from selenium import webdriver\n",
    "from selenium.webdriver.common.by import By\n",
    "from selenium.webdriver.common.action_chains import ActionChains\n",
    "from selenium.webdriver.support import expected_conditions as EC\n",
    "from selenium.webdriver.support.ui import WebDriverWait\n",
    "from tqdm import tqdm\n",
    "import pyperclip as pc\n",
    "from deep_translator import GoogleTranslator as gt #using api translator"
   ]
  },
  {
   "cell_type": "code",
   "execution_count": 64,
   "id": "d8f5aaa1",
   "metadata": {},
   "outputs": [
    {
     "name": "stdout",
     "output_type": "stream",
     "text": [
      "Paste Path to folder needing translation: C:\\Users\\Jeevan Aswani\\Downloads\\Faloo\n"
     ]
    }
   ],
   "source": [
    "path=input(\"Paste Path to folder needing translation: \") #add folder\n",
    "os.chdir(path)\n",
    "file_name=['\\\\'+f for f in os.listdir() if f.endswith(\".txt\")]\n",
    "complete_name=[]\n",
    "for f in file_name:\n",
    "    complete_name.append([os.path.abspath(os.getcwd())+f,False])"
   ]
  },
  {
   "cell_type": "code",
   "execution_count": 65,
   "id": "052c1eba",
   "metadata": {},
   "outputs": [
    {
     "name": "stderr",
     "output_type": "stream",
     "text": [
      "C:\\Users\\JEEVAN~1\\AppData\\Local\\Temp/ipykernel_28028/2413169155.py:7: DeprecationWarning: use options instead of chrome_options\n",
      "  driver = webdriver.Chrome(chrome_options=chrome_options)\n"
     ]
    }
   ],
   "source": [
    "download_loc=os.path.join(os.getcwd(), \"Translated\")\n",
    "if not os.path.exists(download_loc):\n",
    "    os.makedirs(download_loc)"
   ]
  },
  {
   "cell_type": "code",
   "execution_count": 72,
   "id": "aeefd4c2",
   "metadata": {},
   "outputs": [
    {
     "name": "stderr",
     "output_type": "stream",
     "text": [
      "Translating:   0%|                                                                             | 0/993 [48:39<?, ?it/s]\n"
     ]
    },
    {
     "ename": "OSError",
     "evalue": "[Errno 22] Invalid argument: 'C:\\\\Users\\\\Jeevan Aswani\\\\Downloads\\\\Faloo\\\\Translated\\\\C:\\\\Users\\\\Jeevan Aswani\\\\Downloads\\\\Faloo\\\\-_I_m_a_bit_weird_crossing_over.txt'",
     "output_type": "error",
     "traceback": [
      "\u001b[1;31m---------------------------------------------------------------------------\u001b[0m",
      "\u001b[1;31mOSError\u001b[0m                                   Traceback (most recent call last)",
      "\u001b[1;32mC:\\Users\\JEEVAN~1\\AppData\\Local\\Temp/ipykernel_28028/2523881155.py\u001b[0m in \u001b[0;36m<module>\u001b[1;34m\u001b[0m\n\u001b[0;32m     16\u001b[0m \u001b[1;33m\u001b[0m\u001b[0m\n\u001b[0;32m     17\u001b[0m         \u001b[0mtranslated\u001b[0m\u001b[1;33m=\u001b[0m\u001b[1;34m\"\"\u001b[0m\u001b[1;33m.\u001b[0m\u001b[0mjoin\u001b[0m\u001b[1;33m(\u001b[0m\u001b[0mt\u001b[0m\u001b[1;33m)\u001b[0m\u001b[1;33m\u001b[0m\u001b[1;33m\u001b[0m\u001b[0m\n\u001b[1;32m---> 18\u001b[1;33m         \u001b[0mf\u001b[0m \u001b[1;33m=\u001b[0m \u001b[0mopen\u001b[0m\u001b[1;33m(\u001b[0m \u001b[0mdownload_loc\u001b[0m\u001b[1;33m+\u001b[0m\u001b[1;34m\"\\\\\"\u001b[0m\u001b[1;33m+\u001b[0m\u001b[0mpath\u001b[0m\u001b[1;33m[\u001b[0m\u001b[1;36m0\u001b[0m\u001b[1;33m]\u001b[0m\u001b[1;33m,\u001b[0m\u001b[1;34m\"w\"\u001b[0m\u001b[1;33m)\u001b[0m\u001b[1;33m\u001b[0m\u001b[1;33m\u001b[0m\u001b[0m\n\u001b[0m\u001b[0;32m     19\u001b[0m         \u001b[0mf\u001b[0m\u001b[1;33m.\u001b[0m\u001b[0mwrite\u001b[0m\u001b[1;33m(\u001b[0m\u001b[0mtranslated\u001b[0m\u001b[1;33m)\u001b[0m\u001b[1;33m\u001b[0m\u001b[1;33m\u001b[0m\u001b[0m\n\u001b[0;32m     20\u001b[0m         \u001b[0mf\u001b[0m\u001b[1;33m.\u001b[0m\u001b[0mclose\u001b[0m\u001b[1;33m(\u001b[0m\u001b[1;33m)\u001b[0m\u001b[1;33m\u001b[0m\u001b[1;33m\u001b[0m\u001b[0m\n",
      "\u001b[1;31mOSError\u001b[0m: [Errno 22] Invalid argument: 'C:\\\\Users\\\\Jeevan Aswani\\\\Downloads\\\\Faloo\\\\Translated\\\\C:\\\\Users\\\\Jeevan Aswani\\\\Downloads\\\\Faloo\\\\-_I_m_a_bit_weird_crossing_over.txt'"
     ]
    }
   ],
   "source": [
    "for path in tqdm(complete_name,desc=\"Translating\"):\n",
    "    if path[1]==False:\n",
    "        s=\"\"\n",
    "        t=[]\n",
    "        with open(path[0] ,encoding=\"utf-8\") as file:\n",
    "            s=s+file.read()\n",
    "        for i in range(len(s)//1000):\n",
    "            a=(i)*1000\n",
    "            b=a+1000\n",
    "            if b<len(s):\n",
    "                t.append(s[a:b])\n",
    "            else:\n",
    "                t.append(s[a:])\n",
    "        for i in range(len(t)):\n",
    "            t[i]=gt(source='auto',target='en').translate(t[i])\n",
    "            \n",
    "        translated=\"\".join(t) #entire translated text\n",
    "        with open(path[0],\"w\",encoding='utf-8' ) as f:\n",
    "            f.write(translated)\n",
    "            f.close()\n",
    "        \n",
    "        "
   ]
  }
 ],
 "metadata": {
  "kernelspec": {
   "display_name": "Python 3 (ipykernel)",
   "language": "python",
   "name": "python3"
  },
  "language_info": {
   "codemirror_mode": {
    "name": "ipython",
    "version": 3
   },
   "file_extension": ".py",
   "mimetype": "text/x-python",
   "name": "python",
   "nbconvert_exporter": "python",
   "pygments_lexer": "ipython3",
   "version": "3.10.0"
  }
 },
 "nbformat": 4,
 "nbformat_minor": 5
}
