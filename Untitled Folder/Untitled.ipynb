{
 "cells": [
  {
   "cell_type": "code",
   "execution_count": 68,
   "id": "34c4ecf5",
   "metadata": {},
   "outputs": [],
   "source": [
    "import os\n",
    "from selenium import webdriver\n",
    "from selenium.webdriver.common.by import By\n",
    "from selenium.webdriver.common.action_chains import ActionChains\n",
    "from selenium.webdriver.support import expected_conditions as EC\n",
    "from selenium.webdriver.support.ui import WebDriverWait\n",
    "from tqdm import tqdm\n",
    "import pyperclip as pc\n",
    "from deep_translator import GoogleTranslator as gt"
   ]
  },
  {
   "cell_type": "code",
   "execution_count": 64,
   "id": "515ff2b3",
   "metadata": {},
   "outputs": [
    {
     "name": "stdout",
     "output_type": "stream",
     "text": [
      "Paste Path to folder needing translation: C:\\Users\\Jeevan Aswani\\Downloads\\Faloo\n"
     ]
    }
   ],
   "source": [
    "path=input(\"Paste Path to folder needing translation: \") #add folder\n",
    "os.chdir(path)\n",
    "file_name=['\\\\'+f for f in os.listdir() if f.endswith(\".txt\")]\n",
    "complete_name=[]\n",
    "for f in file_name:\n",
    "    complete_name.append([os.path.abspath(os.getcwd())+f,False])"
   ]
  },
  {
   "cell_type": "code",
   "execution_count": 65,
   "id": "69941014",
   "metadata": {},
   "outputs": [
    {
     "name": "stderr",
     "output_type": "stream",
     "text": [
      "C:\\Users\\JEEVAN~1\\AppData\\Local\\Temp/ipykernel_28028/2413169155.py:7: DeprecationWarning: use options instead of chrome_options\n",
      "  driver = webdriver.Chrome(chrome_options=chrome_options)\n"
     ]
    }
   ],
   "source": [
    "download_loc=os.path.join(os.getcwd(), \"Translated\")\n",
    "if not os.path.exists(download_loc):\n",
    "    os.makedirs(download_loc)\n",
    "# chrome_options = webdriver.ChromeOptions()\n",
    "# prefs = {'download.default_directory' : download_loc} # you can also type path for downloading translated files\n",
    "# chrome_options.add_experimental_option('prefs', prefs)\n",
    "# driver = webdriver.Chrome(chrome_options=chrome_options)"
   ]
  },
  {
   "cell_type": "code",
   "execution_count": 66,
   "id": "cf21a427",
   "metadata": {},
   "outputs": [],
   "source": [
    "# driver.get(\"https://translate.google.co.in/?sl=auto&tl=en&op=translate\") #google translate doc url"
   ]
  },
  {
   "cell_type": "code",
   "execution_count": 72,
   "id": "02c9001d",
   "metadata": {},
   "outputs": [
    {
     "name": "stderr",
     "output_type": "stream",
     "text": [
      "Translating:   0%|                                                                             | 0/993 [48:39<?, ?it/s]\n"
     ]
    },
    {
     "ename": "OSError",
     "evalue": "[Errno 22] Invalid argument: 'C:\\\\Users\\\\Jeevan Aswani\\\\Downloads\\\\Faloo\\\\Translated\\\\C:\\\\Users\\\\Jeevan Aswani\\\\Downloads\\\\Faloo\\\\-_I_m_a_bit_weird_crossing_over.txt'",
     "output_type": "error",
     "traceback": [
      "\u001b[1;31m---------------------------------------------------------------------------\u001b[0m",
      "\u001b[1;31mOSError\u001b[0m                                   Traceback (most recent call last)",
      "\u001b[1;32mC:\\Users\\JEEVAN~1\\AppData\\Local\\Temp/ipykernel_28028/2523881155.py\u001b[0m in \u001b[0;36m<module>\u001b[1;34m\u001b[0m\n\u001b[0;32m     16\u001b[0m \u001b[1;33m\u001b[0m\u001b[0m\n\u001b[0;32m     17\u001b[0m         \u001b[0mtranslated\u001b[0m\u001b[1;33m=\u001b[0m\u001b[1;34m\"\"\u001b[0m\u001b[1;33m.\u001b[0m\u001b[0mjoin\u001b[0m\u001b[1;33m(\u001b[0m\u001b[0mt\u001b[0m\u001b[1;33m)\u001b[0m\u001b[1;33m\u001b[0m\u001b[1;33m\u001b[0m\u001b[0m\n\u001b[1;32m---> 18\u001b[1;33m         \u001b[0mf\u001b[0m \u001b[1;33m=\u001b[0m \u001b[0mopen\u001b[0m\u001b[1;33m(\u001b[0m \u001b[0mdownload_loc\u001b[0m\u001b[1;33m+\u001b[0m\u001b[1;34m\"\\\\\"\u001b[0m\u001b[1;33m+\u001b[0m\u001b[0mpath\u001b[0m\u001b[1;33m[\u001b[0m\u001b[1;36m0\u001b[0m\u001b[1;33m]\u001b[0m\u001b[1;33m,\u001b[0m\u001b[1;34m\"w\"\u001b[0m\u001b[1;33m)\u001b[0m\u001b[1;33m\u001b[0m\u001b[1;33m\u001b[0m\u001b[0m\n\u001b[0m\u001b[0;32m     19\u001b[0m         \u001b[0mf\u001b[0m\u001b[1;33m.\u001b[0m\u001b[0mwrite\u001b[0m\u001b[1;33m(\u001b[0m\u001b[0mtranslated\u001b[0m\u001b[1;33m)\u001b[0m\u001b[1;33m\u001b[0m\u001b[1;33m\u001b[0m\u001b[0m\n\u001b[0;32m     20\u001b[0m         \u001b[0mf\u001b[0m\u001b[1;33m.\u001b[0m\u001b[0mclose\u001b[0m\u001b[1;33m(\u001b[0m\u001b[1;33m)\u001b[0m\u001b[1;33m\u001b[0m\u001b[1;33m\u001b[0m\u001b[0m\n",
      "\u001b[1;31mOSError\u001b[0m: [Errno 22] Invalid argument: 'C:\\\\Users\\\\Jeevan Aswani\\\\Downloads\\\\Faloo\\\\Translated\\\\C:\\\\Users\\\\Jeevan Aswani\\\\Downloads\\\\Faloo\\\\-_I_m_a_bit_weird_crossing_over.txt'"
     ]
    }
   ],
   "source": [
    "for path in tqdm(complete_name,desc=\"Translating\"):\n",
    "    if path[1]==False:\n",
    "        s=\"\"\n",
    "        t=[]\n",
    "        with open(path[0] ,encoding=\"utf-8\") as file:\n",
    "            s=s+file.read()\n",
    "        for i in range(len(s)//1000):\n",
    "            a=(i)*1000\n",
    "            b=a+1000\n",
    "            if b<len(s):\n",
    "                t.append(s[a:b])\n",
    "            else:\n",
    "                t.append(s[a:])\n",
    "        for i in range(len(t)):\n",
    "            t[i]=gt(source='auto',target='en').translate(t[i])\n",
    "            \n",
    "        translated=\"\".join(t)\n",
    "        f = open( download_loc+\"\\\\\"+path[0],\"w\")\n",
    "        f.write(translated)\n",
    "        f.close()\n",
    "        \n",
    "        "
   ]
  },
  {
   "cell_type": "code",
   "execution_count": 54,
   "id": "963a6ee1",
   "metadata": {},
   "outputs": [],
   "source": [
    "translate = driver.find_element(by=By.XPATH, value='/html/body/c-wiz/div/div[2]/c-wiz/div[2]/c-wiz/div[1]/div[2]/div[3]/c-wiz[1]/span/span/div/textarea')\n",
    "translate.send_keys(s[0:45000])\n",
    "\n",
    "text_translated=driver.find_element(by=By.XPATH, value='/html/body/c-wiz/div/div[2]/c-wiz/div[2]/c-wiz/div[1]/div[2]/div[3]/c-wiz[2]/div[6]/div/div[4]/div[2]/div/span/button')\n",
    "\n",
    "wait = WebDriverWait(driver, 90)#try catch because some file google translate might not translate \n",
    "element = wait.until(EC.element_to_be_clickable(text_translated)) \n",
    "element.click()\n",
    "\n"
   ]
  },
  {
   "cell_type": "code",
   "execution_count": 55,
   "id": "65142ee3",
   "metadata": {},
   "outputs": [
    {
     "name": "stdout",
     "output_type": "stream",
     "text": [
      "NBA: I really just want to brush money\r\n",
      "Author: Freshwater beach\r\n",
      "\r\n",
      "Chapter 1: Do sister, I just want to brush money\r\n",
      "In 2005, the summer.\r\n",
      "Los Angeles, an outdoor basketball field, two shadows behind the arc fierce haunt.\r\n",
      "\"No matter how many times to see, or will it be amazing dribbling Hao, the rhythm is really great!\"\r\n",
      "\"In Hao's body, I see the smiling assassin - shadow Isiah Thomas, which is control of the ball really too strong!\"\r\n",
      "\"Yes ah, that guy Jack not rivals, seem clumsy, too funny.\"\r\n",
      "\"Basketball is not just rely on motion height with power, technology can often play a decisive role, not to mention Hao physique than Jack is not bad, the outcome will be announced soon ...\"\r\n",
      "\"I think Hao should not have to be the opposition stadium, really a waste of his talent, and he played professional arena is the stage!\"\r\n",
      "\"Professional How can it be so easy to do, UCLA basketball schools such as this, Trevor Ariza this year it was only one person can enter the NBA, the threshold is too high.\"\r\n",
      "\"I heard a ho also UCLA basketball team, this year's NCAA arena, we should be able to see his active presence of the ~\"\r\n",
      "\"......\"\r\n",
      "Sidelines of the audience talking about the incident, his eyes are focused on the black-haired black pupil, nearly two meters tall, is called Hao Chinese teenager who, his face covered with stunning color.\r\n",
      "Once upon a time, everyone will be exclusive sports as basketball whites and blacks.\r\n",
      "Until 2002, Dayao to yellow gesture, beat a lot of talented players to become the year's top pick, and quickly grow to become a pillar of the team, told everyone, yellow can also gain a firm foothold in the NBA, and become a star.\r\n",
      "The sound did not bother to speak around, look to focus Hao Chen, after a break fake, suddenly assumed a shooting position, attracted a large black knee-jerk in front of a step forward, carried the Forces of defense.\r\n",
      "Suddenly withdrew the act of shooting -\r\n",
      "\"Bang - bang bang ~ ~ ~ ~\"\r\n",
      "Basketball at your fingertips highly rhythmic beating, crotch shipped at the ball, suddenly turned back, from the right side into the opponent's wipe inside the arc, wire hesitate, Hao Chen directly from the three-step, stomping ground the whole person high jump, the force split Huashan score.\r\n",
      "Well, in fact, just a mien buckle.\r\n",
      "After landing, he turned around, looked at his face can not be reconciled big black one, Hao Chen laughter: \"Little Jack, still play?\"\r\n",
      "\"Another!\"\r\n",
      "Black a bad mood added: \"And do not call me Little Jack!\"\r\n",
      "\"I know, little Jack ~\" Chen Hao waved, very perfunctory.\r\n",
      "This allows big black man named Jack was very helpless, but it did not say anything, go directly to a position within the three-point line-by-step, ready to come back a ball.\r\n",
      "Seeing this, Chen Hao mouth smiled, thinking: \"Yes, they make a fortune ...\"\r\n",
      "Went beyond the arc, took the basketball, put three threat posture, ranging from Jack react, Hao Chen is an unexpected start, all of a sudden NBA: I really just want to brush money\r\n",
      "Author: Freshwater beach\r\n",
      "\r\n",
      "Chapter 1: Do sister, I just want to brush money\r\n",
      "In 2005, the summer.\r\n",
      "Los Angeles, an outdoor basketball field, two shadows behind the arc fierce haunt.\r\n",
      "\"No matter how many times to see, or will it be amazing dribbling Hao, the rhythm is really great!\"\r\n",
      "\"In Hao's body, I see the smiling assassin - shadow Isiah Thomas, which is control of the ball really too strong!\"\r\n",
      "\"Yes ah, that guy Jack not rivals, seem clumsy, too funny.\"\r\n",
      "\"Basketball is not just rely on motion height with power, technology can often play a decisive role, not to mention Hao physique than Jack is not bad, the outcome will be announced soon ...\"\r\n",
      "\"I think Hao should not have to be the opposition stadium, really a waste of his talent, and he played professional arena is the stage!\"\r\n",
      "\"Professional How can it be so easy to do, UCLA basketball schools such as this, Trevor Ariza this year it was only one person can enter the NBA, the threshold is too high.\"\r\n",
      "\"I heard a ho also UCLA basketball team, this year's NCAA arena, we should be able to see his active presence of the ~\"\r\n",
      "\"......\"\r\n",
      "Sidelines of the audience talking about the incident, his eyes are focused on the black-haired black pupil, nearly two meters tall, is called Hao Chinese teenager who, his face covered with stunning color.\r\n",
      "Once upon a time, everyone will be exclusive sports as basketball whites and blacks.\r\n",
      "Until 2002, Dayao to yellow gesture, beat a lot of talented players to become the year's top pick, and quickly grow to become a pillar of the team, told everyone, yellow can also gain a firm foothold in the NBA, and become a star.\r\n",
      "The sound did not bother to speak around, look to focus Hao Chen, after a break fake, suddenly assumed a shooting position, attracted a large black knee-jerk in front of a step forward, carried the Forces of defense.\r\n",
      "Suddenly withdrew the act of shooting -\r\n",
      "\"Bang - bang bang ~ ~ ~ ~\"\r\n",
      "Basketball at your fingertips highly rhythmic beating, crotch shipped at the ball, suddenly turned back, from the right side into the opponent's wipe inside the arc, wire hesitate, Hao Chen directly from the three-step, stomping ground the whole person high jump, the force split Huashan score.\r\n",
      "Well, in fact, just a mien buckle.\r\n",
      "After landing, he turned around, looked at his face can not be reconciled big black one, Hao Chen laughter: \"Little Jack, still play?\"\r\n",
      "\"Another!\"\r\n",
      "Black a bad mood added: \"And do not call me Little Jack!\"\r\n",
      "\"I know, little Jack ~\" Chen Hao waved, very perfunctory.\r\n",
      "This allows big black man named Jack was very helpless, but it did not say anything, go directly to a position within the three-point line-by-step, ready to come back a ball.\r\n",
      "Seeing this, Chen Hao mouth smiled, thinking: \"Yes, they make a fortune ...\"\r\n",
      "Went beyond the arc, took the basketball, put three threat posture, ranging from Jack react, Hao Chen is an unexpected start, all of a sudden NBA: I really just want to brush money\r\n",
      "Author: Freshwater beach\r\n",
      "\r\n",
      "Chapter 1: Do sister, I just want to brush money\r\n",
      "In 2005, the summer.\r\n",
      "Los Angeles, an outdoor basketball field, two shadows behind the arc fierce haunt.\r\n",
      "\"No matter how many times to see, or will it be amazing dribbling Hao, the rhythm is really great!\"\r\n",
      "\"In Hao's body, I see the smiling assassin - shadow Isiah Thomas, which is control of the ball really too strong!\"\r\n",
      "\"Yes ah, that guy Jack not rivals, seem clumsy, too funny.\"\r\n",
      "\"Basketball is not just rely on motion height with power, technology can often play a decisive role, not to mention Hao physique than Jack is not bad, the outcome will be announced soon ...\"\r\n",
      "\"I think Hao should not have to be the opposition stadium, really a waste of his talent, and he played professional arena is the stage!\"\r\n",
      "\"Professional How can it be so easy to do, UCLA basketball schools such as this, Trevor Ariza this year it was only one person can enter the NBA, the threshold is too high.\"\r\n",
      "\"I heard a ho also UCLA basketball team, this year's NCAA arena, we should be able to see his active presence of the ~\"\r\n",
      "\"......\"\r\n",
      "Sidelines of the audience talking about the incident, his eyes are focused on the black-haired black pupil, nearly two meters tall, is called Hao Chinese teenager who, his face covered with stunning color.\r\n",
      "Once upon a time, everyone will be exclusive sports as basketball whites and blacks.\r\n",
      "Until 2002, Dayao to yellow gesture, beat a lot of talented players to become the year's top pick, and quickly grow to become a pillar of the team, told everyone, yellow can also gain a firm foothold in the NBA, and become a star.\r\n",
      "The sound did not bother to speak around, look to focus Hao Chen, after a break fake, suddenly assumed a shooting position, attracted a large black knee-jerk in front of a step forward, carried the Forces of defense.\r\n",
      "Suddenly withdrew the act of shooting -\r\n",
      "\"Bang - bang bang ~ ~ ~ ~\"\r\n",
      "Basketball at your fingertips highly rhythmic beating, crotch shipped at the ball, suddenly turned back, from the right side into the opponent's wipe inside the arc, wire hesitate, Hao Chen directly from the three-step, stomping ground the whole person high jump, the force split Huashan score.\r\n",
      "Well, in fact, just a mien buckle.\r\n",
      "After landing, he turned around, looked at his face can not be reconciled big black one, Hao Chen laughter: \"Little Jack, still play?\"\r\n",
      "\"Another!\"\r\n",
      "Black a bad mood added: \"And do not call me Little Jack!\"\r\n",
      "\"I know, little Jack ~\" Chen Hao waved, very perfunctory.\r\n",
      "This allows big black man named Jack was very helpless, but it did not say anything, go directly to a position within the three-point line-by-step, ready to come back a ball.\r\n",
      "Seeing this, Chen Hao mouth smiled, thinking: \"Yes, they make a fortune ...\"\r\n",
      "Went beyond the arc, took the basketball, put three threat posture, ranging from Jack react, Hao Chen is an unexpected start, all of a sudden NBA: I really just want to brush money\r\n",
      "Author: Freshwater beach\r\n",
      "\r\n",
      "Chapter 1: Do sister, I just want to brush money\r\n",
      "In 2005, the summer.\r\n",
      "Los Angeles, an outdoor basketball field, two shadows behind the arc fierce haunt.\r\n",
      "\"No matter how many times to see, or will it be amazing dribbling Hao, the rhythm is really great!\"\r\n",
      "\"In Hao's body, I see the smiling assassin - shadow Isiah Thomas, which is control of the ball really too strong!\"\r\n",
      "\"Yes ah, that guy Jack not rivals, seem clumsy, too funny.\"\r\n",
      "\"Basketball is not just rely on motion height with power, technology can often play a decisive role, not to mention Hao physique than Jack is not bad, the outcome will be announced soon ...\"\r\n",
      "\"I think Hao should not have to be the opposition stadium, really a waste of his talent, and he played professional arena is the stage!\"\r\n",
      "\"Professional How can it be so easy to do, UCLA basketball schools such as this, Trevor Ariza this year it was only one person can enter the NBA, the threshold is too high.\"\r\n",
      "\"I heard a ho also UCLA basketball team, this year's NCAA arena, we should be able to see his active presence of the ~\"\r\n",
      "\"......\"\r\n",
      "Sidelines of the audience talking about the incident, his eyes are focused on the black-haired black pupil, nearly two meters tall, is called Hao Chinese teenager who, his face covered with stunning color.\r\n",
      "Once upon a time, everyone will be exclusive sports as basketball whites and blacks.\r\n",
      "Until 2002, Dayao to yellow gesture, beat a lot of talented players to become the year's top pick, and quickly grow to become a pillar of the team, told everyone, yellow can also gain a firm foothold in the NBA, and become a star.\r\n",
      "The sound did not bother to speak around, look to focus Hao Chen, after a break fake, suddenly assumed a shooting position, attracted a large black knee-jerk in front of a step forward, carried the Forces of defense.\r\n",
      "Suddenly withdrew the act of shooting -\r\n",
      "\"Bang - bang bang ~ ~ ~ ~\"\r\n",
      "Basketball at your fingertips highly rhythmic beating, crotch shipped at the ball, suddenly turned back, from the right side into the opponent's wipe inside the arc, wire hesitate, Hao Chen directly from the three-step, stomping ground the whole person high jump, the force split Huashan score.\r\n",
      "Well, in fact, just a mien buckle.\r\n",
      "After landing, he turned around, looked at his face can not be reconciled big black one, Hao Chen laughter: \"Little Jack, still play?\"\r\n",
      "\"Another!\"\r\n",
      "Black a bad mood added: \"And do not call me Little Jack!\"\r\n",
      "\"I know, little Jack ~\" Chen Hao waved, very perfunctory.\r\n",
      "This allows big black man named Jack was very helpless, but it did not say anything, go directly to a position within the three-point line-by-step, ready to come back a ball.\r\n",
      "Seeing this, Chen Hao mouth smiled, thinking: \"Yes, they make a fortune ...\"\r\n",
      "Went beyond the arc, took the basketball, put three threat posture, ranging from Jack react, Hao Chen is an unexpected start, all of a sudden NBA: I really just want to brush money\r\n",
      "Author: Freshwater beach\r\n",
      "\r\n",
      "Chapter 1: Do sister, I just want to brush money\r\n",
      "In 2005, the summer.\r\n",
      "Los Angeles, an outdoor basketball field, two shadows behind the arc fierce haunt.\r\n",
      "\"No matter how many times to see, or will it be amazing dribbling Hao, the rhythm is really great!\"\r\n",
      "\"In Hao's body, I see the smiling assassin - shadow Isiah Thomas, which is control of the ball really too strong!\"\r\n",
      "\"Yes ah, that guy Jack not rivals, seem clumsy, too funny.\"\r\n",
      "\"Basketball is not just rely on motion height with power, technology can often play a decisive role, not to mention Hao physique than Jack is not bad, the outcome will be announced soon ...\"\r\n",
      "\"I think Hao should not have to be the opposition stadium, really a waste of his talent, and he played professional arena is the stage!\"\r\n",
      "\"Professional How can it be so easy to do, UCLA basketball schools such as this, Trevor Ariza this year it was only one person can enter the NBA, the threshold is too high.\"\r\n",
      "\"I heard a ho also UCLA basketball team, this year's NCAA arena, we should be able to see his active presence of the ~\"\r\n",
      "\"......\"\r\n",
      "Sidelines of the audience talking about the incident, his eyes are focused on the black-haired black pupil, nearly two meters tall, is called Hao Chinese teenager who, his face covered with stunning color.\r\n",
      "Once upon a time, everyone will be exclusive sports as basketball whites and blacks.\r\n",
      "Until 2002, Dayao to yellow gesture, beat a lot of talented players to become the year's top pick, and quickly grow to become a pillar of the team, told everyone, yellow can also gain a firm foothold in the NBA, and become a star.\r\n",
      "The sound did not bother to speak around, look to focus Hao Chen, after a break fake, suddenly assumed a shooting position, attracted a large black knee-jerk in front of a step forward, carried the Forces of defense.\r\n",
      "Suddenly withdrew the act of shooting -\r\n",
      "\"Bang - bang bang ~ ~ ~ ~\"\r\n",
      "Basketball at your fingertips highly rhythmic beating, crotch shipped at the ball, suddenly turned back, from the right side into the opponent's wipe inside the arc, wire hesitate, Hao Chen directly from the three-step, stomping ground the whole person high jump, the force split Huashan score.\r\n",
      "Well, in fact, just a mien buckle.\r\n",
      "After landing, he turned around, looked at his face can not be reconciled big black one, Hao Chen laughter: \"Little Jack, still play?\"\r\n",
      "\"Another!\"\r\n",
      "Black a bad mood added: \"And do not call me Little Jack!\"\r\n",
      "\"I know, little Jack ~\" Chen Hao waved, very perfunctory.\r\n",
      "This allows big black man named Jack was very helpless, but it did not say anything, go directly to a position within the three-point line-by-step, ready to come back a ball.\r\n",
      "Seeing this, Chen Hao mouth smiled, thinking: \"Yes, they make a fortune ...\"\r\n",
      "Went beyond the arc, took the basketball, put three threat posture, ranging from Jack react, Hao Chen is an unexpected start, all of a sudden\n"
     ]
    }
   ],
   "source": [
    "t=pc.paste()\n",
    "print(t)"
   ]
  },
  {
   "cell_type": "code",
   "execution_count": 47,
   "id": "1cd619a2",
   "metadata": {},
   "outputs": [
    {
     "name": "stdout",
     "output_type": "stream",
     "text": [
      "Collecting pyperclip"
     ]
    },
    {
     "name": "stderr",
     "output_type": "stream",
     "text": [
      "WARNING: You are using pip version 21.2.3; however, version 22.0.3 is available.\n",
      "You should consider upgrading via the 'C:\\Users\\Jeevan Aswani\\AppData\\Local\\Programs\\Python\\Python310\\python.exe -m pip install --upgrade pip' command.\n"
     ]
    },
    {
     "name": "stdout",
     "output_type": "stream",
     "text": [
      "\n",
      "  Downloading pyperclip-1.8.2.tar.gz (20 kB)\n",
      "Using legacy 'setup.py install' for pyperclip, since package 'wheel' is not installed.\n",
      "Installing collected packages: pyperclip\n",
      "    Running setup.py install for pyperclip: started\n",
      "    Running setup.py install for pyperclip: finished with status 'done'\n",
      "Successfully installed pyperclip-1.8.2\n"
     ]
    }
   ],
   "source": [
    "!pip install pyperclip"
   ]
  }
 ],
 "metadata": {
  "kernelspec": {
   "display_name": "Python 3 (ipykernel)",
   "language": "python",
   "name": "python3"
  },
  "language_info": {
   "codemirror_mode": {
    "name": "ipython",
    "version": 3
   },
   "file_extension": ".py",
   "mimetype": "text/x-python",
   "name": "python",
   "nbconvert_exporter": "python",
   "pygments_lexer": "ipython3",
   "version": "3.10.0"
  }
 },
 "nbformat": 4,
 "nbformat_minor": 5
}
